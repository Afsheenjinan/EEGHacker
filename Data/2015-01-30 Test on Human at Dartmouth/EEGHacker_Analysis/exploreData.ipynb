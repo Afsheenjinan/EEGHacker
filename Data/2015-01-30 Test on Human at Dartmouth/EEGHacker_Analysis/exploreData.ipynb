{
 "metadata": {
  "name": "",
  "signature": "sha256:8a45e141b0255cf4a84b925b3bd76fc246375dcca32bee16e24e8f1eb86463cd"
 },
 "nbformat": 3,
 "nbformat_minor": 0,
 "worksheets": [
  {
   "cells": [
    {
     "cell_type": "heading",
     "level": 1,
     "metadata": {},
     "source": [
      "Explore Data from ANT EEG System"
     ]
    },
    {
     "cell_type": "markdown",
     "metadata": {},
     "source": [
      "EEG Hacker, 2015-03-03, MIT License"
     ]
    },
    {
     "cell_type": "heading",
     "level": 3,
     "metadata": {},
     "source": [
      "Purpose"
     ]
    },
    {
     "cell_type": "markdown",
     "metadata": {},
     "source": [
      "Open data file.  Do some simple visualizations to make sure that it looks OK."
     ]
    },
    {
     "cell_type": "heading",
     "level": 3,
     "metadata": {},
     "source": [
      "Prepare"
     ]
    },
    {
     "cell_type": "markdown",
     "metadata": {},
     "source": [
      "First, we have to import some libraries...though this might be done automagically for IPython Notebooks...I'm not sure."
     ]
    },
    {
     "cell_type": "code",
     "collapsed": true,
     "input": [
      "%matplotlib inline\n",
      "import matplotlib.pyplot as plt\n",
      "import numpy as np\n",
      "import matplotlib.mlab as mlab"
     ],
     "language": "python",
     "metadata": {},
     "outputs": [],
     "prompt_number": 30
    },
    {
     "cell_type": "heading",
     "level": 3,
     "metadata": {},
     "source": [
      "Load the Data"
     ]
    },
    {
     "cell_type": "code",
     "collapsed": false,
     "input": [
      "# Define Data to Load...be sure to UNZIP the data!!!\n",
      "pname = '../RawData/'\n",
      "test_id = 0;\n",
      "t_lim_sec = []\n",
      "\n",
      "#test_id = 1; segment_id = 4; %\"full test\" with eyes open/closed and mental math\n",
      "#test_id = 2; segment_id = 1; %\"photic driving\", ie, the blinky light\n",
      "#test_id = 3; segment_id = 2; %stepped EMI signals\n",
      "#test_id = 5; segment_id = 1; %\"full test\" in the sheilded room\n",
      "\n",
      "case = 1\n",
      "if (case == 1): \n",
      "    #\"full test\" with eyes open/closed and mental math\n",
      "    fname = 'creare_human_001_Segment_4.asc'\n",
      "    sname = \"Test 1.4, Eyes Open/Closed and Mental Math\" \n",
      "    t_lim_sec = [0, 1000]\n",
      "    test_id = 1\n",
      "\n",
      "\n",
      "    \n",
      "\n",
      "# load data into numpy array\n",
      "fs_Hz = 512.0        # assumed sample rate for the ANT EEG data\n",
      "data = np.loadtxt(pname + fname,\n",
      "                  skiprows=1)\n"
     ],
     "language": "python",
     "metadata": {},
     "outputs": [],
     "prompt_number": 41
    },
    {
     "cell_type": "heading",
     "level": 3,
     "metadata": {},
     "source": [
      "Check the Packet Counter"
     ]
    },
    {
     "cell_type": "code",
     "collapsed": false,
     "input": [
      "# check the packet counter for dropped packets\n",
      "#data_indices = data[:, 0]   # the first column is the packet index\n",
      "#d_indices = data_indices[2:]-data_indices[1:-1]\n",
      "#n_jump = np.count_nonzero((d_indices != 1) & (d_indices != -255))\n",
      "#print(\"Number of discontinuities in the packet counter: \" + str(n_jump))"
     ],
     "language": "python",
     "metadata": {},
     "outputs": [],
     "prompt_number": 35
    },
    {
     "cell_type": "heading",
     "level": 3,
     "metadata": {},
     "source": [
      "Unpack the Data"
     ]
    },
    {
     "cell_type": "code",
     "collapsed": false,
     "input": [
      "# parse the data out of the values read from the text file\n",
      "#eeg_data_uV = data[:, 1:(8+1)] # EEG data, microvolts\n",
      "eeg_data_uV = data  # EEG data, microvolts\n",
      "#accel_data_counts = data[:, 9:(11+1)]  # note, accel data is NOT in engineering units\n",
      "\n",
      "# convert units\n",
      "#unused_bits = 4 #the 4 LSB are unused?\n",
      "#accel_data_counts = accel_data_counts / (2**unused_bits) # strip off this extra LSB\n",
      "#scale_G_per_count = 0.002  # for full-scale = +/- 4G, scale is 2 mG per count\n",
      "#accel_data_G = scale_G_per_count*accel_data_counts # convert to G\n",
      "\n",
      "# create a vector with the time of each sample\n",
      "t_sec = np.arange(len(eeg_data_uV[:, 0])) / fs_Hz"
     ],
     "language": "python",
     "metadata": {},
     "outputs": [],
     "prompt_number": 36
    },
    {
     "cell_type": "heading",
     "level": 3,
     "metadata": {},
     "source": [
      "Plot the EEG Data"
     ]
    },
    {
     "cell_type": "code",
     "collapsed": false,
     "input": [
      "# plot the raw EEG data to see the DC drive\n",
      "nchan = 32;\n",
      "plt.figure(figsize=(8,4.5))\n",
      "plt.plot(t_sec[1::dec_fac],eeg_data_uV[1::dec_fac,:]/1000)\n",
      "plt.xlabel(\"Time (sec)\")       \n",
      "plt.ylabel(\"Raw EEG (milliVolt)\")\n",
      "#plt.title(\"Channel \" + str(Ichan+1))\n",
      "plt.title(sname)\n",
      "plt.ylim([-40, 40])\n",
      "plt.xlim([t_sec[0], t_sec[-1]])\n"
     ],
     "language": "python",
     "metadata": {},
     "outputs": [
      {
       "metadata": {},
       "output_type": "pyout",
       "prompt_number": 42,
       "text": [
        "(0.0, 310.048828125)"
       ]
      },
      {
       "metadata": {},
       "output_type": "display_data",
       "png": "[encoded data removed]",
       "text": [
        "<matplotlib.figure.Figure at 0xd23c9b0>"
       ]
      }
     ],
     "prompt_number": 42
    },
    {
     "cell_type": "code",
     "collapsed": false,
     "input": [
      "# plot each channel of EEG data...raw\n",
      "#nchan = 32  #normally 8 or 16\n",
      "#dec_fac = 10 #decimate the data\n",
      "#ncol = 3; nrow = (nchan+(ncol-1)) / ncol  #arrangement of plots on the screen, rounding up\n",
      "#plt.figure(figsize=(ncol*6, nrow*3.5))\n",
      "#for Ichan in range(nchan):      \n",
      "#    plt.subplot(nrow,ncol,Ichan+1)\n",
      "#    plt.plot(t_sec[1::dec_fac],eeg_data_uV[1::dec_fac, Ichan]/1000)\n",
      "#    plt.xlabel(\"Time (sec)\")       \n",
      "#    plt.ylabel(\"Raw EEG (milliVolt)\")\n",
      "#    plt.title(\"Channel \" + str(Ichan+1))\n",
      "#    plt.ylim([-20, 20])\n",
      "#\n",
      "#plt.tight_layout()"
     ],
     "language": "python",
     "metadata": {},
     "outputs": [],
     "prompt_number": 32
    },
    {
     "cell_type": "heading",
     "level": 3,
     "metadata": {},
     "source": [
      "Spectrograms"
     ]
    },
    {
     "cell_type": "code",
     "collapsed": false,
     "input": [
      "NFFT = 256*2  # pitck the length of the fft\n",
      "FFTstep = 0.5*fs_Hz  # do a new FFT every half second\n",
      "overlap = NFFT - FFTstep  # half-second steps\n",
      "f_lim_Hz = [0, 50]   # frequency limits for plotting\n",
      "\n",
      "plt.figure(figsize=(ncol*6, nrow*3.5))\n",
      "for Ichan in range(nchan):      \n",
      "    ax = plt.subplot(nrow,ncol,Ichan+1)\n",
      "    data = np.array(eeg_data_uV[:,Ichan])\n",
      "    data = data - np.mean(data,0)\n",
      "    spec_PSDperHz, freqs, t = mlab.specgram(data,\n",
      "                               NFFT=NFFT,\n",
      "                               window=mlab.window_hanning,\n",
      "                               Fs=fs_Hz,\n",
      "                               noverlap=overlap\n",
      "                               ) # returns PSD power per Hz\n",
      "    spec_PSDperBin = spec_PSDperHz * fs_Hz / float(NFFT)  #convert to \"per bin\"\n",
      "\n",
      "    plt.pcolor(t, freqs, 10*np.log10(spec_PSDperBin))  # dB re: 1 uV\n",
      "    #plt.clim(20+np.array([-45, 0]))\n",
      "    plt.clim(20-7.5-3.0+np.array([-30, 0]))\n",
      "    #plt.xlim(t_sec[0], t_sec[-1])\n",
      "    plt.xlim(np.array(t_lim_sec)+np.array([-10, 10]))\n",
      "    #plt.ylim([0, fs_Hz/2.0])  # show the full frequency content of the signal\n",
      "    plt.ylim(f_lim_Hz)\n",
      "    plt.xlabel('Time (sec)')\n",
      "    plt.ylabel('Frequency (Hz)')\n",
      "    plt.title(\"Channel \" + str(Ichan+1))\n",
      "\n",
      "    # add annotation for FFT Parameters\n",
      "    ax.text(0.025, 0.95,\n",
      "        \"NFFT = \" + str(NFFT) + \"\\nfs = \" + str(int(fs_Hz)) + \" Hz\",\n",
      "        transform=ax.transAxes,\n",
      "        verticalalignment='top',\n",
      "        horizontalalignment='left',\n",
      "        backgroundcolor='w')\n",
      "    plt.colorbar()\n",
      "\n",
      "plt.tight_layout()\n"
     ],
     "language": "python",
     "metadata": {},
     "outputs": []
    },
    {
     "cell_type": "heading",
     "level": 3,
     "metadata": {},
     "source": [
      "Compute Average Spectrum"
     ]
    },
    {
     "cell_type": "code",
     "collapsed": false,
     "input": [
      "#do the channel of interest\n",
      "Ichan = 7-1\n",
      "\n",
      "#get the time period of interest\n",
      "if (test_id == 1):\n",
      "    if (0):\n",
      "        t_focus_sec = 182.0+60.0+10+np.array([0, 20])\n",
      "    elif (1):\n",
      "        #should be 40 Hz?\n",
      "        t_focus_sec = np.array([205.0, 220.0]) #see in chans 3, 6, and 7?\n",
      "    elif (0):\n",
      "        #at both 37 and 43 Hz\n",
      "        t_focus_sec = 250.0+np.array([0, 20]) #see in chan 6?\n",
      "elif (test_id == 2):\n",
      "    if (1):\n",
      "        #both 37 and 43, stronger on 43?\n",
      "        t_focus_sec = 43.0+np.array([0, 18])\n",
      "    else:\n",
      "        #both 37 and 43, stronger on 37?\n",
      "        t_focus_sec = 43.0+30.0+np.array([0, 18])\n",
      "elif (test_id == 3):\n",
      "    if (1):\n",
      "        #both 37 and 43, stronger 37?\n",
      "        t_focus_sec = 87.0+np.array([0, 15])\n",
      "    else:\n",
      "        #both 37 and 43, stronger 43?\n",
      "        t_focus_sec = 115.0+np.array([0, 15])            \n",
      "\n",
      "\n",
      "for Ichan in range(nchan):\n",
      "    #get the time period of interest\n",
      "    t_focus_samp = t_focus_sec * fs_Hz + 1\n",
      "    data = np.array(eeg_data_uV[t_focus_samp[0]:t_focus_samp[1],Ichan])\n",
      "\n",
      "    #convert to the frequency domain\n",
      "    NFFT = 256*2\n",
      "    data = data - np.mean(data,0)\n",
      "    spec_PSDperHz, freqs, t = mlab.specgram(data,\n",
      "                               NFFT=NFFT,\n",
      "                               window=mlab.window_hanning,\n",
      "                               Fs=fs_Hz,\n",
      "                               noverlap=overlap\n",
      "                               ) # returns PSD power per Hz\n",
      "    spec_PSDperBin = spec_PSDperHz * fs_Hz / float(NFFT)  #convert to \"per bin\"\n",
      "\n",
      "\n",
      "    #get the mean spectrum in that time\n",
      "    spectrum_PSDperHz = np.mean(spec_PSDperHz,1)  #time is horizontal in the 2D array?\n",
      "\n",
      "    #plot\n",
      "    if (Ichan == 0):\n",
      "        plt.figure(figsize=(10, 5))\n",
      "    #plt.figure(figsize=(ncol*10, nrow*5))\n",
      "    ax = plt.subplot(1,1,1)\n",
      "    plt.plot(freqs, 10*np.log10(spectrum_PSDperHz))  # dB re: 1 uV\n",
      "\n",
      "#plt.xlim([0, fs_Hz/2.0])  # show the full frequency content of the signal\n",
      "plt.xlim([30, 50])\n",
      "plt.ylim([-20.0, 5.0])\n",
      "plt.plot(37.0*np.array([1, 1]),ax.get_ylim(),'k--',linewidth=2)\n",
      "plt.plot(40.0*np.array([1, 1]),ax.get_ylim(),'k--',linewidth=2)\n",
      "plt.plot(43.0*np.array([1, 1]),ax.get_ylim(),'k--',linewidth=2)\n",
      "plt.xlabel('Frequency (Hz)')\n",
      "plt.ylabel('PSD per Hz (dB re: 1uV^2/Hz)')\n",
      "#plt.title(\"Channel \" + str(Ichan+1))\n",
      "plt.title(fname + ': t = [' + str(t_focus_sec[0]) + ' ' + str(t_focus_sec[1]) + '] sec')\n",
      "plt.legend(['1', '2', '3', '4', '5', '6', '7', '8'])\n",
      "\n",
      "# add annotation for FFT Parameters\n",
      "ax.text(0.025, 0.05,\n",
      "    \"NFFT = \" + str(NFFT) + \"\\nfs = \" + str(int(fs_Hz)) + \" Hz\",\n",
      "    transform=ax.transAxes,\n",
      "    verticalalignment='bottom',\n",
      "    horizontalalignment='left',\n",
      "    backgroundcolor='w')"
     ],
     "language": "python",
     "metadata": {},
     "outputs": []
    },
    {
     "cell_type": "code",
     "collapsed": false,
     "input": [
      "eeg_data_uV.shape"
     ],
     "language": "python",
     "metadata": {},
     "outputs": []
    }
   ],
   "metadata": {}
  }
 ]
}