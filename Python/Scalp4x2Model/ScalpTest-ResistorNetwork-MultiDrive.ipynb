{
 "metadata": {
  "name": "",
  "signature": "sha256:9260a673ed21eaf6964c14bea8f3e39f5b020d0b990ab67aeb59cf59aa02cb49"
 },
 "nbformat": 3,
 "nbformat_minor": 0,
 "worksheets": [
  {
   "cells": [
    {
     "cell_type": "heading",
     "level": 1,
     "metadata": {},
     "source": [
      "Solve for Surface Voltages on Scalp"
     ]
    },
    {
     "cell_type": "markdown",
     "metadata": {},
     "source": [
      "2014-12-07 WEA"
     ]
    },
    {
     "cell_type": "heading",
     "level": 3,
     "metadata": {},
     "source": [
      "Objective"
     ]
    },
    {
     "cell_type": "markdown",
     "metadata": {},
     "source": [
      "Solve for EEG voltages that one might measure on a scalp, given that the points are connected by a resistor network and given that the points themselves are driven through a \"surface resistance\" resistor."
     ]
    },
    {
     "cell_type": "heading",
     "level": 3,
     "metadata": {},
     "source": [
      "Modeling Approach"
     ]
    },
    {
     "cell_type": "markdown",
     "metadata": {},
     "source": [
      "Use the resistor network to form a linear system of equations.  Nodes in the resistor network will represent voltages within the material.  The resistors are modeling the conductnace of the material between the different nodes.\n",
      "\n",
      "At each node, there is a drive electrode that is attempting to impose a voltage.  Each of the drive electrodes is connected to the local node through a resistor modeling the surface resistance.\n",
      "\n",
      "All obut one of the drive electrodes are trying to impose a voltage of zero.  One of the drive electrodes is trying to drive to `V_in`.  \n",
      "\n",
      "For the EEG measurements, the EEG system is assumed to be ideal, so it draws no current.  As a result, no surface resistor is needed -- the EEG system can report (difference) voltages directly."
     ]
    },
    {
     "cell_type": "heading",
     "level": 3,
     "metadata": {},
     "source": [
      "Resistor Network"
     ]
    },
    {
     "cell_type": "markdown",
     "metadata": {},
     "source": [
      "The resistor network that is being modeled is shown inthe figure below.  The `R_S` resistors are for surface resistance.  The `R_B` are for bulk resistors, which is much smaller here than the surface resistance.\n",
      "\n",
      "<img src=\"ResistorNetwork.png\" width=400 align=\"left\">"
     ]
    },
    {
     "cell_type": "heading",
     "level": 3,
     "metadata": {},
     "source": [
      "Electrical Model"
     ]
    },
    {
     "cell_type": "markdown",
     "metadata": {},
     "source": [
      "For this linear system, I assume conservation of current at each node.  In general, each node has four connections: (1) from the node above, (2) from the node to the left, (3) from the node to the right, and (4) from the node below.  The sum of these four flows must equal zero.\n",
      "\n",
      "As an example, look at node V_C.  It's current conserving equation would be:\n",
      "\n",
      "    # zero equals (Above) + (Left) + (Right) + (Below)\n",
      "    0 = (V_A - V_C)/R_B + (0 - V_C)/R_SC + (V_D - V_C)/R_B + (V_E - V_C)/R_B\n",
      "    \n",
      "Each node results in an equation like the one above.  Therefore, we have 8 equations to solve for our 8 unknown nodes."
     ]
    },
    {
     "cell_type": "heading",
     "level": 3,
     "metadata": {},
     "source": [
      "Begin Code"
     ]
    },
    {
     "cell_type": "code",
     "collapsed": false,
     "input": [
      "import numpy as np\n",
      "import matplotlib.pyplot as plt"
     ],
     "language": "python",
     "metadata": {},
     "outputs": [],
     "prompt_number": 44
    },
    {
     "cell_type": "heading",
     "level": 3,
     "metadata": {},
     "source": [
      "Define Parameters"
     ]
    },
    {
     "cell_type": "code",
     "collapsed": false,
     "input": [
      "V_in = 1.0;       # drive voltage\n",
      "R_B = 100.0;      # bulk resistance\n",
      "\n",
      "#Surface resistances (one per node)\n",
      "R_S = 1.e4*np.ones(8)\n",
      "#R_S[1] = 2.e4   #change one of the values"
     ],
     "language": "python",
     "metadata": {},
     "outputs": [],
     "prompt_number": 45
    },
    {
     "cell_type": "heading",
     "level": 3,
     "metadata": {},
     "source": [
      "Define the System Equations"
     ]
    },
    {
     "cell_type": "markdown",
     "metadata": {},
     "source": [
      "We will solve this as a linear system `Ax = b`.  The unknowns `x` are the voltages at each node relative to overall ground, which is defined to be the negative of the drive system.  We build `A` using the conservation of current equation for each node.  `b` holds the information about how the nodes are connected to the known drive (or ground) signals that are applied externally."
     ]
    },
    {
     "cell_type": "code",
     "collapsed": false,
     "input": [
      "A = np.zeros([8,8])\n",
      "A[0,0:3] = [(-1.0/R_S[0]-2.0/R_B), 1.0/R_B, 1.0/R_B]\n",
      "A[1,0:4] = [1./R_B, (-1.0/R_S[1]-2.0/R_B), 0.0, 1.0/R_B]\n",
      "A[2,0:5] = [1./R_B, 0, (-1.0/R_S[2]-3.0/R_B), 1.0/R_B, 1.0/R_B]\n",
      "A[3,1:6] = [1./R_B, 1./R_B, (-1.0/R_S[3]-3.0/R_B), 0.0, 1.0/R_B]\n",
      "A[4,2:7] = [1./R_B, 0, (-1.0/R_S[4]-3.0/R_B), 1.0/R_B, 1.0/R_B]\n",
      "A[5,3:8] = [1./R_B, 1./R_B, (-1.0/R_S[5]-3.0/R_B), 0.0, 1.0/R_B]\n",
      "A[6,4:8] = [1./R_B, 0.0, (-1.0/R_S[6]-2.0/R_B), 1.0/R_B];\n",
      "A[7,5:8] = [1./R_B, 1./R_B, (-1.0/R_S[7]-2.0/R_B)]\n",
      "#print A"
     ],
     "language": "python",
     "metadata": {},
     "outputs": [],
     "prompt_number": 46
    },
    {
     "cell_type": "heading",
     "level": 3,
     "metadata": {},
     "source": [
      "Define Connections to Drive Electrodes"
     ]
    },
    {
     "cell_type": "code",
     "collapsed": false,
     "input": [
      "# Define which nodes are being driven and which are set to ground\n",
      "#drive_ind = [4-1]  # This is LVA electrode 2 (2nd row, right)\n",
      "#drive_ind = [1-1]  # This is LVA electrode 3 (top left)\n",
      "drive_ind = [8-1]  # This is LVA electrode 6 (bottom right)\n",
      "\n",
      "# compute the b vector\n",
      "b = np.zeros([8,1])            # start with all connected to ground\n",
      "b[drive_ind] = -V_in/R_S[drive_ind]   \n",
      "#print b"
     ],
     "language": "python",
     "metadata": {},
     "outputs": [],
     "prompt_number": 47
    },
    {
     "cell_type": "heading",
     "level": 3,
     "metadata": {},
     "source": [
      "Solve System for the Voltage at Each Node"
     ]
    },
    {
     "cell_type": "code",
     "collapsed": false,
     "input": [
      "v_nodes = np.dot(np.linalg.pinv(A),b)\n",
      "print np.reshape(v_nodes,[4, 2])"
     ],
     "language": "python",
     "metadata": {},
     "outputs": [
      {
       "output_type": "stream",
       "stream": "stdout",
       "text": [
        "[[ 0.12188929  0.1219774 ]\n",
        " [ 0.12302007  0.12328529]\n",
        " [ 0.12511581  0.12609126]\n",
        " [ 0.12748727  0.1311336 ]]\n"
       ]
      }
     ],
     "prompt_number": 48
    },
    {
     "cell_type": "heading",
     "level": 3,
     "metadata": {},
     "source": [
      "Assess EEG Values"
     ]
    },
    {
     "cell_type": "code",
     "collapsed": false,
     "input": [
      "# define which electrode to use as the EEG reference\n",
      "#EEG_ref_ind = 7-1   # This is LVA electrode 7 (bottom left)\n",
      "#EEG_ref_ind = 2-1    # This is LVA electrode 1 (top right)\n",
      "EEG_ref_ind = 7-1    # This is LVA electrode 7 (bottom left)\n",
      "\n",
      "#solve for the EEG values based on the electrode voltages\n",
      "gain = 100.0   # used to push the output into a nice looking range\n",
      "v_EEG = gain*(v_nodes - v_nodes[EEG_ref_ind])\n",
      "\n",
      "#To mimic the Processing GUI, normalize by the sign of the strongest\n",
      "if 1 : \n",
      "    max_ind = np.argmax(np.abs(v_EEG))\n",
      "    v_EEG  = v_EEG / np.sign(v_EEG[max_ind])\n",
      "\n",
      "# plot the results\n",
      "%matplotlib inline\n",
      "fig, ax = plt.subplots()\n",
      "image = np.reshape(v_EEG,[4,2])\n",
      "print image\n",
      "cax = plt.imshow(image, \\\n",
      "                 extent=[0, 1, 0, 1],\\\n",
      "                 interpolation='nearest',\\\n",
      "                 cmap=plt.cm.seismic,\\\n",
      "                 vmin=-1,vmax=1)\n",
      "\n",
      "fig.colorbar(cax)"
     ],
     "language": "python",
     "metadata": {},
     "outputs": [
      {
       "output_type": "stream",
       "stream": "stdout",
       "text": [
        "[[ 0.55979827  0.55098669]\n",
        " [ 0.44672056  0.4201977 ]\n",
        " [ 0.23714565  0.13960057]\n",
        " [-0.         -0.36463292]]\n"
       ]
      },
      {
       "metadata": {},
       "output_type": "pyout",
       "prompt_number": 49,
       "text": [
        "<matplotlib.colorbar.Colorbar instance at 0x000000000CD6CE88>"
       ]
      },
      {
       "metadata": {},
       "output_type": "display_data",
       "png": "[encoded data removed]",
       "text": [
        "<matplotlib.figure.Figure at 0xb8eb860>"
       ]
      }
     ],
     "prompt_number": 49
    }
   ],
   "metadata": {}
  }
 ]
}