{
 "metadata": {
  "name": "",
  "signature": "sha256:ad490e77e3d79b373f986f38b794998b11a38b58448a8243add33988c9eab419"
 },
 "nbformat": 3,
 "nbformat_minor": 0,
 "worksheets": [
  {
   "cells": [
    {
     "cell_type": "heading",
     "level": 1,
     "metadata": {},
     "source": [
      "Solve for Surface Voltages on Scalp"
     ]
    },
    {
     "cell_type": "markdown",
     "metadata": {},
     "source": [
      "2014-12-07 WEA"
     ]
    },
    {
     "cell_type": "heading",
     "level": 3,
     "metadata": {},
     "source": [
      "Objective"
     ]
    },
    {
     "cell_type": "markdown",
     "metadata": {},
     "source": [
      "Solve for EEG voltages that one might measure on a scalp, given that the points are connected by a resistor network and given that the points themselves are driven through a \"surface resistance\" resistor."
     ]
    },
    {
     "cell_type": "heading",
     "level": 3,
     "metadata": {},
     "source": [
      "Modeling Approach"
     ]
    },
    {
     "cell_type": "markdown",
     "metadata": {},
     "source": [
      "Use the resistor network to form a linear system of equations.  Nodes in the resistor network will represent voltages within the material.  The resistors are modeling the conductnace of the material between the different nodes.\n",
      "\n",
      "At each node, there is a drive electrode that is attempting to impose a voltage.  Each of the drive electrodes is connected to the local node through a resistor modeling the surface resistance.\n",
      "\n",
      "All obut one of the drive electrodes are trying to impose a voltage of zero.  One of the drive electrodes is trying to drive to `V_in`.  \n",
      "\n",
      "For the EEG measurements, the EEG system is assumed to be ideal, so it draws no current.  As a result, no surface resistor is needed -- the EEG system can report (difference) voltages directly."
     ]
    },
    {
     "cell_type": "heading",
     "level": 3,
     "metadata": {},
     "source": [
      "Resistor Network"
     ]
    },
    {
     "cell_type": "markdown",
     "metadata": {},
     "source": [
      "The resistor network that is being modeled is shown inthe figure below.  The `R_S` resistors are for surface resistance.  The `R_B` are for bulk resistors, which is much smaller here than the surface resistance.\n",
      "\n",
      "<img src=\"ResistorNetwork.png\" width=400 align=\"left\">"
     ]
    },
    {
     "cell_type": "heading",
     "level": 3,
     "metadata": {},
     "source": [
      "Begin Code"
     ]
    },
    {
     "cell_type": "code",
     "collapsed": false,
     "input": [
      "import numpy as np\n",
      "import matplotlib.pyplot as plt"
     ],
     "language": "python",
     "metadata": {},
     "outputs": [],
     "prompt_number": 8
    },
    {
     "cell_type": "heading",
     "level": 3,
     "metadata": {},
     "source": [
      "Define Parameters"
     ]
    },
    {
     "cell_type": "code",
     "collapsed": false,
     "input": [
      "V_in = 1.0;       # drive voltage\n",
      "R_B = 100.0;      # bulk resistance\n",
      "\n",
      "#Surface resistances (one per node)\n",
      "R_S = 1.e4*np.ones(8)\n",
      "#R_S[1] = 2.e4   #change one of the values"
     ],
     "language": "python",
     "metadata": {},
     "outputs": [],
     "prompt_number": 9
    },
    {
     "cell_type": "heading",
     "level": 3,
     "metadata": {},
     "source": [
      "System Equations"
     ]
    },
    {
     "cell_type": "code",
     "collapsed": false,
     "input": [
      "A = np.zeros([8, 8])\n",
      "A[0,0:3] = [(-1.0/R_S[0]-2.0/R_B), 1.0/R_B, 1.0/R_B]\n",
      "A[1,0:4] = [1./R_B, (-1.0/R_S[1]-2.0/R_B), 0.0, 1.0/R_B]\n",
      "A[2,0:5] = [1./R_B, 0, (-1.0/R_S[2]-3.0/R_B), 1.0/R_B, 1.0/R_B]\n",
      "A[3,1:6] = [1./R_B, 1./R_B, (-1.0/R_S[3]-3.0/R_B), 0.0, 1.0/R_B]\n",
      "A[4,2:7] = [1./R_B, 0, (-1.0/R_S[4]-3.0/R_B), 1.0/R_B, 1.0/R_B]\n",
      "A[5,3:8] = [1./R_B, 1./R_B, (-1.0/R_S[5]-3.0/R_B), 0.0, 1.0/R_B]\n",
      "A[6,4:8] = [1./R_B, 0.0, (-1.0/R_S[6]-2.0/R_B), 1.0/R_B];\n",
      "A[7,5:8] = [1./R_B, 1./R_B, (-1.0/R_S[7]-2.0/R_B)]\n",
      "#print A"
     ],
     "language": "python",
     "metadata": {},
     "outputs": [],
     "prompt_number": 10
    },
    {
     "cell_type": "code",
     "collapsed": false,
     "input": [
      "b = np.zeros([8,1])\n",
      "b[0] = -V_in / R_S[0]  # the only non-zero drive\n",
      "#print b"
     ],
     "language": "python",
     "metadata": {},
     "outputs": [],
     "prompt_number": 11
    },
    {
     "cell_type": "heading",
     "level": 3,
     "metadata": {},
     "source": [
      "Solve System"
     ]
    },
    {
     "cell_type": "code",
     "collapsed": false,
     "input": [
      "v_nodes = np.dot(np.linalg.pinv(A),b)\n",
      "print np.reshape(v_nodes,[4, 2])"
     ],
     "language": "python",
     "metadata": {},
     "outputs": [
      {
       "output_type": "stream",
       "stream": "stdout",
       "text": [
        "[[ 0.1311336   0.12748727]\n",
        " [ 0.12609126  0.12511581]\n",
        " [ 0.12328529  0.12302007]\n",
        " [ 0.1219774   0.12188929]]\n"
       ]
      }
     ],
     "prompt_number": 12
    },
    {
     "cell_type": "heading",
     "level": 3,
     "metadata": {},
     "source": [
      "Assess EEG Values"
     ]
    },
    {
     "cell_type": "code",
     "collapsed": false,
     "input": [
      "EEG_ref_ind = 1   # which electrode is the EEG reference\n",
      "gain = 100.0\n",
      "\n",
      "#solve for EEG values\n",
      "v_EEG = gain*(v_nodes - v_nodes[EEG_ref_ind])\n",
      "\n",
      "#for display purposes, normalize by the sign of the strongest\n",
      "#like in the Processing GUI\n",
      "if 1 : \n",
      "    max_ind = np.argmax(np.abs(v_EEG))\n",
      "    v_EEG  = v_EEG / np.sign(v_EEG[max_ind])\n",
      "\n",
      "# plots\n",
      "%matplotlib inline\n",
      "fig, ax = plt.subplots()\n",
      "image = np.reshape(v_EEG,[4,2])\n",
      "print image\n",
      "cax = plt.imshow(image, \\\n",
      "                 extent=[0, 1, 0, 1],\\\n",
      "                 interpolation='nearest',\\\n",
      "                 cmap=plt.cm.seismic,\\\n",
      "                 vmin=-1,vmax=1)\n",
      "\n",
      "fig.colorbar(cax)\n",
      "plt.show()"
     ],
     "language": "python",
     "metadata": {},
     "outputs": [
      {
       "output_type": "stream",
       "stream": "stdout",
       "text": [
        "[[-0.36463292 -0.        ]\n",
        " [ 0.13960057  0.23714565]\n",
        " [ 0.4201977   0.44672056]\n",
        " [ 0.55098669  0.55979827]]\n"
       ]
      },
      {
       "metadata": {},
       "output_type": "display_data",
       "png": "[encoded data removed]",
       "text": [
        "<matplotlib.figure.Figure at 0x439c588>"
       ]
      }
     ],
     "prompt_number": 13
    }
   ],
   "metadata": {}
  }
 ]
}