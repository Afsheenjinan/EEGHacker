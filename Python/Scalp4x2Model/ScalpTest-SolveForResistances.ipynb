{
 "metadata": {
  "name": "",
  "signature": "sha256:1702ecbc023bb27108982a84eef9277a58f4632671e996cba0762580de37317a"
 },
 "nbformat": 3,
 "nbformat_minor": 0,
 "worksheets": [
  {
   "cells": [
    {
     "cell_type": "heading",
     "level": 1,
     "metadata": {},
     "source": [
      "Solve for Surface Voltages on Scalp"
     ]
    },
    {
     "cell_type": "markdown",
     "metadata": {},
     "source": [
      "2014-12-07 WEA"
     ]
    },
    {
     "cell_type": "heading",
     "level": 3,
     "metadata": {},
     "source": [
      "Objective"
     ]
    },
    {
     "cell_type": "markdown",
     "metadata": {},
     "source": [
      "Model the scalp as a resistor network.  Given EEG voltages, solve for the resistance values of the surface resistors and of the bulk resistors."
     ]
    },
    {
     "cell_type": "heading",
     "level": 3,
     "metadata": {},
     "source": [
      "Modeling Approach"
     ]
    },
    {
     "cell_type": "markdown",
     "metadata": {},
     "source": [
      "Use the resistor network to form a linear system of equations.  Nodes in the resistor network will represent voltages within the material.  The resistors are modeling the conductnace of the material between the different nodes.\n",
      "\n",
      "At each node, there is a drive electrode that is attempting to impose a voltage.  Each of the drive electrodes is connected to the local node through a resistor modeling the surface resistance.\n",
      "\n",
      "All but one of the drive electrodes are trying to impose a voltage of zero.  One of the drive electrodes is trying to drive to `V_in`.  \n",
      "\n",
      "For the EEG measurements, the EEG system is assumed to be ideal, so it draws no current.  As a result, no surface resistor is needed -- the EEG system can report (difference) voltages directly."
     ]
    },
    {
     "cell_type": "heading",
     "level": 3,
     "metadata": {},
     "source": [
      "Resistor Network"
     ]
    },
    {
     "cell_type": "markdown",
     "metadata": {},
     "source": [
      "The resistor network that is being modeled is shown inthe figure below.  The `R_S` resistors are for surface resistance.  The `R_B` are for bulk resistors, which is much smaller here than the surface resistance.\n",
      "\n",
      "<img src=\"ResistorNetwork.png\" width=400 align=\"left\">"
     ]
    },
    {
     "cell_type": "heading",
     "level": 3,
     "metadata": {},
     "source": [
      "Electrical Model"
     ]
    },
    {
     "cell_type": "markdown",
     "metadata": {},
     "source": [
      "For this linear system, I assume conservation of current at each node.  In general, each node has four connections: (1) from the node above, (2) from the node to the left, (3) from the node to the right, and (4) from the node below.  The sum of these four flows must equal zero.\n",
      "\n",
      "As an example, look at node V_C.  It's current conserving equation would be:\n",
      "\n",
      "    # zero equals (Above) + (Left) + (Right) + (Below)\n",
      "    0 = (V_A - V_C)/R_B + (0 - V_C)/R_SC + (V_D - V_C)/R_B + (V_E - V_C)/R_B\n",
      "    \n",
      "Each node results in an equation like the one above.  If the voltages are all given, that leaves all of the resistance values as unknown.  There are 9 resistance values, so we need more than one set of 8 EEG measurements.  These routines are set up assuming at least 2x8 measurements."
     ]
    },
    {
     "cell_type": "heading",
     "level": 3,
     "metadata": {},
     "source": [
      "Begin Code"
     ]
    },
    {
     "cell_type": "code",
     "collapsed": false,
     "input": [
      "import numpy as np\n",
      "import matplotlib.pyplot as plt\n",
      "np.set_printoptions(precision=4)  #how much precision for numbers shown on screen"
     ],
     "language": "python",
     "metadata": {},
     "outputs": [],
     "prompt_number": 52
    },
    {
     "cell_type": "heading",
     "level": 3,
     "metadata": {},
     "source": [
      "Define Parameters"
     ]
    },
    {
     "cell_type": "code",
     "collapsed": false,
     "input": [
      "V_in = 10.0;       # drive voltage\n",
      "\n",
      "#Surface resistances (one per node)\n",
      "R_S = 1.e4*np.ones(8)\n",
      "R_B = 100\n",
      "\n",
      "#test configuration\n",
      "LVA_to_WEA = [2-1, 4-1, 1-1, 3-1, 6-1, 8-1, 5-1, 7-1]\n",
      "test_config = 3\n",
      "if (test_config == 1) :\n",
      "    drive_ind = LVA_to_WEA[3-1]   #LVA electrode #3\n",
      "    EEG_ref_ind = LVA_to_WEA[1-1] #LVA electrode #1\n",
      "elif (test_config == 2) :\n",
      "    drive_ind = LVA_to_WEA[1-1]  \n",
      "    EEG_ref_ind = LVA_to_WEA[3-1] \n",
      "elif (test_config == 3) :\n",
      "    drive_ind = LVA_to_WEA[8-1]  \n",
      "    EEG_ref_ind = LVA_to_WEA[6-1]\n",
      "elif (test_config == 4) :\n",
      "    drive_ind = LVA_to_WEA[8-1]  \n",
      "    EEG_ref_ind = LVA_to_WEA[8-1] \n",
      "elif (test_config == 5) :\n",
      "    drive_ind = LVA_to_WEA[4-1]  \n",
      "    EEG_ref_ind = LVA_to_WEA[2-1] \n",
      "elif (test_config == 6) :\n",
      "    drive_ind = LVA_to_WEA[2-1]  \n",
      "    EEG_ref_ind = LVA_to_WEA[4-1] \n",
      "elif (test_config == 7) :\n",
      "    drive_ind = LVA_to_WEA[7-1]  \n",
      "    EEG_ref_ind = LVA_to_WEA[5-1] \n",
      "elif (test_config == 8) :\n",
      "    drive_ind = LVA_to_WEA[5-1]  \n",
      "    EEG_ref_ind = LVA_to_WEA[7-1] "
     ],
     "language": "python",
     "metadata": {},
     "outputs": [],
     "prompt_number": 53
    },
    {
     "cell_type": "heading",
     "level": 3,
     "metadata": {},
     "source": [
      "Define the System Equations"
     ]
    },
    {
     "cell_type": "markdown",
     "metadata": {},
     "source": [
      "We will solve this as a linear system `Ax = b`.  The unknowns `x` are the voltages at each node relative to overall ground, which is defined to be the negative of the drive system.  We build `A` using the conservation of current equation for each node.  `b` holds the information about how the nodes are connected to the known drive (or ground) signals that are applied externally."
     ]
    },
    {
     "cell_type": "code",
     "collapsed": false,
     "input": [
      "def defineSystemEquations(R_B, R_S, V_in, drive_ind):\n",
      "    # Assume building linear system Ax = b\n",
      "\n",
      "    # define matrix A, which sets the connections between all the nodes\n",
      "    A = np.zeros([8,8])\n",
      "    A[0,0:3] = [(-1.0/R_S[0]-2.0/R_B), 1.0/R_B, 1.0/R_B]\n",
      "    A[1,0:4] = [1./R_B, (-1.0/R_S[1]-2.0/R_B), 0.0, 1.0/R_B]\n",
      "    A[2,0:5] = [1./R_B, 0, (-1.0/R_S[2]-3.0/R_B), 1.0/R_B, 1.0/R_B]\n",
      "    A[3,1:6] = [1./R_B, 1./R_B, (-1.0/R_S[3]-3.0/R_B), 0.0, 1.0/R_B]\n",
      "    A[4,2:7] = [1./R_B, 0, (-1.0/R_S[4]-3.0/R_B), 1.0/R_B, 1.0/R_B]\n",
      "    A[5,3:8] = [1./R_B, 1./R_B, (-1.0/R_S[5]-3.0/R_B), 0.0, 1.0/R_B]\n",
      "    A[6,4:8] = [1./R_B, 0.0, (-1.0/R_S[6]-2.0/R_B), 1.0/R_B];\n",
      "    A[7,5:8] = [1./R_B, 1./R_B, (-1.0/R_S[7]-2.0/R_B)]\n",
      "    #print A\n",
      "\n",
      "    # define b vector, which sets the connection of each node to drive or ground\n",
      "    b = np.zeros([8,1])            # start with all connected to ground\n",
      "    b[drive_ind] = -V_in/R_S[drive_ind]   \n",
      "    #print b\n",
      "    \n",
      "    return (A, b)"
     ],
     "language": "python",
     "metadata": {},
     "outputs": [],
     "prompt_number": 54
    },
    {
     "cell_type": "heading",
     "level": 3,
     "metadata": {},
     "source": [
      "Solve System for the Voltage at Each Node"
     ]
    },
    {
     "cell_type": "code",
     "collapsed": false,
     "input": [
      "# get the linear system\n",
      "A, b = defineSystemEquations(R_B, R_S, V_in, drive_ind)\n",
      "\n",
      "# solve via psuedo inverse\n",
      "v_nodes = np.dot(np.linalg.pinv(A),b)\n",
      "\n",
      "#print result\n",
      "print \"*** Voltage at Each Node (re: drive ground)\"\n",
      "print np.reshape(v_nodes,[4, 2])"
     ],
     "language": "python",
     "metadata": {},
     "outputs": [
      {
       "output_type": "stream",
       "stream": "stdout",
       "text": [
        "*** Voltage at Each Node (re: drive ground)\n",
        "[[ 1.2198  1.2189]\n",
        " [ 1.2329  1.2302]\n",
        " [ 1.2609  1.2512]\n",
        " [ 1.3113  1.2749]]\n"
       ]
      }
     ],
     "prompt_number": 55
    },
    {
     "cell_type": "heading",
     "level": 3,
     "metadata": {},
     "source": [
      "Assess EEG Values"
     ]
    },
    {
     "cell_type": "code",
     "collapsed": false,
     "input": [
      "\n",
      "#solve for the EEG values based on the electrode voltages\n",
      "gain = 10.0   # used to push the output into a nice looking range\n",
      "v_EEG = gain*(v_nodes - v_nodes[EEG_ref_ind])\n",
      "\n",
      "#To mimic the Processing GUI, normalize by the sign of the strongest\n",
      "if 1 : \n",
      "    max_ind = np.argmax(np.abs(v_EEG))\n",
      "    v_EEG  = v_EEG / np.sign(v_EEG[max_ind])\n",
      "\n",
      "# plot the results\n",
      "%matplotlib inline\n",
      "fig, ax = plt.subplots()\n",
      "image = np.reshape(v_EEG,[4,2])\n",
      "print \"*** EEG Voltages (Gain = \" + str(gain) + \"):\"\n",
      "print image\n",
      "cax = plt.imshow(image, \\\n",
      "                 extent=[0, 1, 0, 1],\\\n",
      "                 interpolation='nearest',\\\n",
      "                 cmap=plt.cm.seismic,\\\n",
      "                 vmin=-1,vmax=1)\n",
      "\n",
      "fig.colorbar(cax)\n",
      "plt.text(0.25+0.5*(drive_ind % 2),0.875-0.25*(drive_ind//2),\"Drive\", \\\n",
      "         verticalalignment='center',horizontalalignment='center')\n",
      "plt.text(0.25+0.5*(EEG_ref_ind % 2),0.875-0.25*(EEG_ref_ind//2),\"EEG Ref\", \\\n",
      "         verticalalignment='center',horizontalalignment='center')\n",
      "plt.title(\"Test Configuration \" + str(test_config))"
     ],
     "language": "python",
     "metadata": {},
     "outputs": [
      {
       "output_type": "stream",
       "stream": "stdout",
       "text": [
        "*** EEG Voltages (Gain = 10.0):\n",
        "[[ 0.551   0.5598]\n",
        " [ 0.4202  0.4467]\n",
        " [ 0.1396  0.2371]\n",
        " [-0.3646 -0.    ]]\n"
       ]
      },
      {
       "metadata": {},
       "output_type": "pyout",
       "prompt_number": 56,
       "text": [
        "<matplotlib.text.Text at 0xcba9e48>"
       ]
      },
      {
       "metadata": {},
       "output_type": "display_data",
       "png": "[encoded data removed]",
       "text": [
        "<matplotlib.figure.Figure at 0xc6dfba8>"
       ]
      }
     ],
     "prompt_number": 56
    }
   ],
   "metadata": {}
  }
 ]
}